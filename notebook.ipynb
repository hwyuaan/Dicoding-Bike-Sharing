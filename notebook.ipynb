{
  "cells": [
    {
      "cell_type": "markdown",
      "metadata": {
        "id": "H9wADwK78DCz"
      },
      "source": [
        "# Proyek Analisis Data: [Bike-sharing-dataset]\n",
        "- **Nama:** [Yuanita TriHastutik Rachmawati]\n",
        "- **Email:** [yuanitatri987@gmail.com]\n",
        "- **ID Dicoding:** [yuanita_9dre]"
      ]
    },
    {
      "cell_type": "markdown",
      "metadata": {
        "id": "eE0raob58DC0"
      },
      "source": [
        "## Menentukan Pertanyaan Bisnis"
      ]
    },
    {
      "cell_type": "markdown",
      "metadata": {
        "id": "GmQeQ5YF8DC0"
      },
      "source": [
        "1. Day Review : Kapan terjadinya pelonjakan paling tinggi di tahun 2011 dan bagaimana kecenderungan waktu peminjaman oleh pengguna ?\n",
        "2. Apakah terdapat perbedaan pelonjakan yang terjadi di tahun 2011 dan 2012?"
      ]
    },
    {
      "cell_type": "markdown",
      "metadata": {
        "id": "H-z4QGlO8DC1"
      },
      "source": [
        "## Import Semua Packages/Library yang Digunakan"
      ]
    },
    {
      "cell_type": "markdown",
      "metadata": {
        "id": "rdSZ4i3ba6nV"
      },
      "source": [
        "Penggunaan library yang didukung oleh python,\n",
        "- pandas untuk membaca dataset yang berupa dataset yang bertype csv\n",
        "- numpy untuk perhitungan matematika"
      ]
    },
    {
      "cell_type": "code",
      "execution_count": 1,
      "metadata": {
        "id": "FVYwaObI8DC1"
      },
      "outputs": [],
      "source": [
        "import pandas as pd\n",
        "import numpy as np\n",
        "import matplotlib.pyplot  as plt\n",
        "import seaborn as sns"
      ]
    },
    {
      "cell_type": "markdown",
      "metadata": {
        "id": "h_Sh51Xy8DC1"
      },
      "source": [
        "## Data Wrangling"
      ]
    },
    {
      "cell_type": "markdown",
      "metadata": {
        "id": "sXU2GBYu8DC1"
      },
      "source": [
        "### Gathering Data"
      ]
    },
    {
      "cell_type": "code",
      "execution_count": null,
      "metadata": {},
      "outputs": [],
      "source": [
        "dt_day= pd.read_csv('data/day.csv') #untuk data peminjaman sepeda\n",
        "dt_day"
      ]
    },
    {
      "cell_type": "markdown",
      "metadata": {
        "id": "Ge-BFVGpqjAw"
      },
      "source": [
        "Memuat data peminjaman sepeda berdasarkan parameter yang sudah disediakan. terdapat 730 data dan 16 kolom parameter"
      ]
    },
    {
      "cell_type": "code",
      "execution_count": 66,
      "metadata": {
        "id": "l4fmkbB6cWZt"
      },
      "outputs": [
        {
          "data": {
            "text/html": [
              "<div>\n",
              "<style scoped>\n",
              "    .dataframe tbody tr th:only-of-type {\n",
              "        vertical-align: middle;\n",
              "    }\n",
              "\n",
              "    .dataframe tbody tr th {\n",
              "        vertical-align: top;\n",
              "    }\n",
              "\n",
              "    .dataframe thead th {\n",
              "        text-align: right;\n",
              "    }\n",
              "</style>\n",
              "<table border=\"1\" class=\"dataframe\">\n",
              "  <thead>\n",
              "    <tr style=\"text-align: right;\">\n",
              "      <th></th>\n",
              "      <th>instant</th>\n",
              "      <th>dteday</th>\n",
              "      <th>season</th>\n",
              "      <th>yr</th>\n",
              "      <th>mnth</th>\n",
              "      <th>hr</th>\n",
              "      <th>holiday</th>\n",
              "      <th>weekday</th>\n",
              "      <th>workingday</th>\n",
              "      <th>weathersit</th>\n",
              "      <th>temp</th>\n",
              "      <th>atemp</th>\n",
              "      <th>hum</th>\n",
              "      <th>windspeed</th>\n",
              "      <th>casual</th>\n",
              "      <th>registered</th>\n",
              "      <th>cnt</th>\n",
              "    </tr>\n",
              "  </thead>\n",
              "  <tbody>\n",
              "    <tr>\n",
              "      <th>0</th>\n",
              "      <td>1</td>\n",
              "      <td>2011-01-01</td>\n",
              "      <td>1</td>\n",
              "      <td>0</td>\n",
              "      <td>1</td>\n",
              "      <td>0</td>\n",
              "      <td>0</td>\n",
              "      <td>6</td>\n",
              "      <td>0</td>\n",
              "      <td>1</td>\n",
              "      <td>0.24</td>\n",
              "      <td>0.2879</td>\n",
              "      <td>0.81</td>\n",
              "      <td>0.0000</td>\n",
              "      <td>3</td>\n",
              "      <td>13</td>\n",
              "      <td>16</td>\n",
              "    </tr>\n",
              "    <tr>\n",
              "      <th>1</th>\n",
              "      <td>2</td>\n",
              "      <td>2011-01-01</td>\n",
              "      <td>1</td>\n",
              "      <td>0</td>\n",
              "      <td>1</td>\n",
              "      <td>1</td>\n",
              "      <td>0</td>\n",
              "      <td>6</td>\n",
              "      <td>0</td>\n",
              "      <td>1</td>\n",
              "      <td>0.22</td>\n",
              "      <td>0.2727</td>\n",
              "      <td>0.80</td>\n",
              "      <td>0.0000</td>\n",
              "      <td>8</td>\n",
              "      <td>32</td>\n",
              "      <td>40</td>\n",
              "    </tr>\n",
              "    <tr>\n",
              "      <th>2</th>\n",
              "      <td>3</td>\n",
              "      <td>2011-01-01</td>\n",
              "      <td>1</td>\n",
              "      <td>0</td>\n",
              "      <td>1</td>\n",
              "      <td>2</td>\n",
              "      <td>0</td>\n",
              "      <td>6</td>\n",
              "      <td>0</td>\n",
              "      <td>1</td>\n",
              "      <td>0.22</td>\n",
              "      <td>0.2727</td>\n",
              "      <td>0.80</td>\n",
              "      <td>0.0000</td>\n",
              "      <td>5</td>\n",
              "      <td>27</td>\n",
              "      <td>32</td>\n",
              "    </tr>\n",
              "    <tr>\n",
              "      <th>3</th>\n",
              "      <td>4</td>\n",
              "      <td>2011-01-01</td>\n",
              "      <td>1</td>\n",
              "      <td>0</td>\n",
              "      <td>1</td>\n",
              "      <td>3</td>\n",
              "      <td>0</td>\n",
              "      <td>6</td>\n",
              "      <td>0</td>\n",
              "      <td>1</td>\n",
              "      <td>0.24</td>\n",
              "      <td>0.2879</td>\n",
              "      <td>0.75</td>\n",
              "      <td>0.0000</td>\n",
              "      <td>3</td>\n",
              "      <td>10</td>\n",
              "      <td>13</td>\n",
              "    </tr>\n",
              "    <tr>\n",
              "      <th>4</th>\n",
              "      <td>5</td>\n",
              "      <td>2011-01-01</td>\n",
              "      <td>1</td>\n",
              "      <td>0</td>\n",
              "      <td>1</td>\n",
              "      <td>4</td>\n",
              "      <td>0</td>\n",
              "      <td>6</td>\n",
              "      <td>0</td>\n",
              "      <td>1</td>\n",
              "      <td>0.24</td>\n",
              "      <td>0.2879</td>\n",
              "      <td>0.75</td>\n",
              "      <td>0.0000</td>\n",
              "      <td>0</td>\n",
              "      <td>1</td>\n",
              "      <td>1</td>\n",
              "    </tr>\n",
              "    <tr>\n",
              "      <th>...</th>\n",
              "      <td>...</td>\n",
              "      <td>...</td>\n",
              "      <td>...</td>\n",
              "      <td>...</td>\n",
              "      <td>...</td>\n",
              "      <td>...</td>\n",
              "      <td>...</td>\n",
              "      <td>...</td>\n",
              "      <td>...</td>\n",
              "      <td>...</td>\n",
              "      <td>...</td>\n",
              "      <td>...</td>\n",
              "      <td>...</td>\n",
              "      <td>...</td>\n",
              "      <td>...</td>\n",
              "      <td>...</td>\n",
              "      <td>...</td>\n",
              "    </tr>\n",
              "    <tr>\n",
              "      <th>17374</th>\n",
              "      <td>17375</td>\n",
              "      <td>2012-12-31</td>\n",
              "      <td>1</td>\n",
              "      <td>1</td>\n",
              "      <td>12</td>\n",
              "      <td>19</td>\n",
              "      <td>0</td>\n",
              "      <td>1</td>\n",
              "      <td>1</td>\n",
              "      <td>2</td>\n",
              "      <td>0.26</td>\n",
              "      <td>0.2576</td>\n",
              "      <td>0.60</td>\n",
              "      <td>0.1642</td>\n",
              "      <td>11</td>\n",
              "      <td>108</td>\n",
              "      <td>119</td>\n",
              "    </tr>\n",
              "    <tr>\n",
              "      <th>17375</th>\n",
              "      <td>17376</td>\n",
              "      <td>2012-12-31</td>\n",
              "      <td>1</td>\n",
              "      <td>1</td>\n",
              "      <td>12</td>\n",
              "      <td>20</td>\n",
              "      <td>0</td>\n",
              "      <td>1</td>\n",
              "      <td>1</td>\n",
              "      <td>2</td>\n",
              "      <td>0.26</td>\n",
              "      <td>0.2576</td>\n",
              "      <td>0.60</td>\n",
              "      <td>0.1642</td>\n",
              "      <td>8</td>\n",
              "      <td>81</td>\n",
              "      <td>89</td>\n",
              "    </tr>\n",
              "    <tr>\n",
              "      <th>17376</th>\n",
              "      <td>17377</td>\n",
              "      <td>2012-12-31</td>\n",
              "      <td>1</td>\n",
              "      <td>1</td>\n",
              "      <td>12</td>\n",
              "      <td>21</td>\n",
              "      <td>0</td>\n",
              "      <td>1</td>\n",
              "      <td>1</td>\n",
              "      <td>1</td>\n",
              "      <td>0.26</td>\n",
              "      <td>0.2576</td>\n",
              "      <td>0.60</td>\n",
              "      <td>0.1642</td>\n",
              "      <td>7</td>\n",
              "      <td>83</td>\n",
              "      <td>90</td>\n",
              "    </tr>\n",
              "    <tr>\n",
              "      <th>17377</th>\n",
              "      <td>17378</td>\n",
              "      <td>2012-12-31</td>\n",
              "      <td>1</td>\n",
              "      <td>1</td>\n",
              "      <td>12</td>\n",
              "      <td>22</td>\n",
              "      <td>0</td>\n",
              "      <td>1</td>\n",
              "      <td>1</td>\n",
              "      <td>1</td>\n",
              "      <td>0.26</td>\n",
              "      <td>0.2727</td>\n",
              "      <td>0.56</td>\n",
              "      <td>0.1343</td>\n",
              "      <td>13</td>\n",
              "      <td>48</td>\n",
              "      <td>61</td>\n",
              "    </tr>\n",
              "    <tr>\n",
              "      <th>17378</th>\n",
              "      <td>17379</td>\n",
              "      <td>2012-12-31</td>\n",
              "      <td>1</td>\n",
              "      <td>1</td>\n",
              "      <td>12</td>\n",
              "      <td>23</td>\n",
              "      <td>0</td>\n",
              "      <td>1</td>\n",
              "      <td>1</td>\n",
              "      <td>1</td>\n",
              "      <td>0.26</td>\n",
              "      <td>0.2727</td>\n",
              "      <td>0.65</td>\n",
              "      <td>0.1343</td>\n",
              "      <td>12</td>\n",
              "      <td>37</td>\n",
              "      <td>49</td>\n",
              "    </tr>\n",
              "  </tbody>\n",
              "</table>\n",
              "<p>17379 rows × 17 columns</p>\n",
              "</div>"
            ],
            "text/plain": [
              "       instant      dteday  season  yr  mnth  hr  holiday  weekday  \\\n",
              "0            1  2011-01-01       1   0     1   0        0        6   \n",
              "1            2  2011-01-01       1   0     1   1        0        6   \n",
              "2            3  2011-01-01       1   0     1   2        0        6   \n",
              "3            4  2011-01-01       1   0     1   3        0        6   \n",
              "4            5  2011-01-01       1   0     1   4        0        6   \n",
              "...        ...         ...     ...  ..   ...  ..      ...      ...   \n",
              "17374    17375  2012-12-31       1   1    12  19        0        1   \n",
              "17375    17376  2012-12-31       1   1    12  20        0        1   \n",
              "17376    17377  2012-12-31       1   1    12  21        0        1   \n",
              "17377    17378  2012-12-31       1   1    12  22        0        1   \n",
              "17378    17379  2012-12-31       1   1    12  23        0        1   \n",
              "\n",
              "       workingday  weathersit  temp   atemp   hum  windspeed  casual  \\\n",
              "0               0           1  0.24  0.2879  0.81     0.0000       3   \n",
              "1               0           1  0.22  0.2727  0.80     0.0000       8   \n",
              "2               0           1  0.22  0.2727  0.80     0.0000       5   \n",
              "3               0           1  0.24  0.2879  0.75     0.0000       3   \n",
              "4               0           1  0.24  0.2879  0.75     0.0000       0   \n",
              "...           ...         ...   ...     ...   ...        ...     ...   \n",
              "17374           1           2  0.26  0.2576  0.60     0.1642      11   \n",
              "17375           1           2  0.26  0.2576  0.60     0.1642       8   \n",
              "17376           1           1  0.26  0.2576  0.60     0.1642       7   \n",
              "17377           1           1  0.26  0.2727  0.56     0.1343      13   \n",
              "17378           1           1  0.26  0.2727  0.65     0.1343      12   \n",
              "\n",
              "       registered  cnt  \n",
              "0              13   16  \n",
              "1              32   40  \n",
              "2              27   32  \n",
              "3              10   13  \n",
              "4               1    1  \n",
              "...           ...  ...  \n",
              "17374         108  119  \n",
              "17375          81   89  \n",
              "17376          83   90  \n",
              "17377          48   61  \n",
              "17378          37   49  \n",
              "\n",
              "[17379 rows x 17 columns]"
            ]
          },
          "execution_count": 66,
          "metadata": {},
          "output_type": "execute_result"
        }
      ],
      "source": [
        "# Load data menurut jam\n",
        "dt_hour= pd.read_csv('data/hour.csv') #untuk data peminjaman sepeda\n",
        "dt_hour"
      ]
    },
    {
      "cell_type": "markdown",
      "metadata": {
        "id": "VXPZi2eXqvX4"
      },
      "source": [
        "**Insight:**\n",
        "Memuat data peminjaman sepeda berdasarkan setiap jam. terdapat 17378 row dan 17 kolom parameer.\n",
        "1. instant: indeks peminjaman\n",
        "2.dteday : tanggal peminjaman\n",
        "3. season : musim (1,2,3)\n",
        "4. yr : tahun (2011,2012)\n",
        "5. mnth : bulan\n",
        "7. holiday : hari libur (1), hari kerja (0)\n",
        "8. weekday : hari kerja\n",
        "9. workingday : hari kerja(1), hari libur (0)\n",
        "10. weatherist : cuaca\n",
        "11. temp : Suhu yang dinormalkan dalam Celcius. Nilainya diperoleh melalui (t-t_min)/(t_max-t_min), t_min=-8, t_max=+39 (hanya dalam skala per jam)\n",
        "12. atemp :\n",
        "13. hum :  Kelembaban yang dinormalkan. Nilai dibagi menjadi 100 (maks)\n",
        "14. windspeed: Kecepatan angin yang dinormalkan. Nilai dibagi menjadi 67 (maks)\n",
        "15. casual: jumlah pengguna kasual\n",
        "16. registered : jumlah pengguna terdaftar\n",
        "17. count :jumlah pengguna keseluruhan\n",
        "\n",
        "// Pada data hari memang tidak tidak ada kolom hr, karena rekap data sesuai harian."
      ]
    },
    {
      "cell_type": "markdown",
      "metadata": {
        "id": "FHSiqaZp8DC1"
      },
      "source": [
        "### Assessing Data"
      ]
    },
    {
      "cell_type": "code",
      "execution_count": null,
      "metadata": {
        "id": "ax-3tEjc9Cj1"
      },
      "outputs": [],
      "source": [
        "dt_day.info()"
      ]
    },
    {
      "cell_type": "code",
      "execution_count": null,
      "metadata": {
        "id": "KgcbT9bhdQa2"
      },
      "outputs": [],
      "source": [
        "dt_day.isnull().sum()"
      ]
    },
    {
      "cell_type": "code",
      "execution_count": null,
      "metadata": {
        "id": "lxDS6qOhdhJZ"
      },
      "outputs": [],
      "source": [
        "print(\"Jumlah duplikasi: \",dt_day.duplicated().sum())\n",
        "dt_day.describe()"
      ]
    },
    {
      "cell_type": "markdown",
      "metadata": {
        "id": "XuwRYEb6euy8"
      },
      "source": [
        "Setelah dilakukan penilaian tidak terdapat missing value pada data hari, namun type data pada kolom dteday yang seharusnya bertype data datetime namun disini bertype data object, karena dateday merupakan data tanggal seperti tahun-bulan-tanggal"
      ]
    },
    {
      "cell_type": "code",
      "execution_count": 83,
      "metadata": {
        "id": "VnD_JShecuK3"
      },
      "outputs": [
        {
          "data": {
            "text/html": [
              "<div>\n",
              "<style scoped>\n",
              "    .dataframe tbody tr th:only-of-type {\n",
              "        vertical-align: middle;\n",
              "    }\n",
              "\n",
              "    .dataframe tbody tr th {\n",
              "        vertical-align: top;\n",
              "    }\n",
              "\n",
              "    .dataframe thead th {\n",
              "        text-align: right;\n",
              "    }\n",
              "</style>\n",
              "<table border=\"1\" class=\"dataframe\">\n",
              "  <thead>\n",
              "    <tr style=\"text-align: right;\">\n",
              "      <th></th>\n",
              "      <th>instant</th>\n",
              "      <th>dteday</th>\n",
              "      <th>season</th>\n",
              "      <th>yr</th>\n",
              "      <th>mnth</th>\n",
              "      <th>hr</th>\n",
              "      <th>holiday</th>\n",
              "      <th>weekday</th>\n",
              "      <th>workingday</th>\n",
              "      <th>weathersit</th>\n",
              "      <th>temp</th>\n",
              "      <th>atemp</th>\n",
              "      <th>hum</th>\n",
              "      <th>windspeed</th>\n",
              "      <th>casual</th>\n",
              "      <th>registered</th>\n",
              "      <th>cnt</th>\n",
              "    </tr>\n",
              "  </thead>\n",
              "  <tbody>\n",
              "    <tr>\n",
              "      <th>0</th>\n",
              "      <td>1</td>\n",
              "      <td>2011-01-01</td>\n",
              "      <td>1</td>\n",
              "      <td>0</td>\n",
              "      <td>1</td>\n",
              "      <td>0</td>\n",
              "      <td>0</td>\n",
              "      <td>6</td>\n",
              "      <td>0</td>\n",
              "      <td>1</td>\n",
              "      <td>0.24</td>\n",
              "      <td>0.2879</td>\n",
              "      <td>0.81</td>\n",
              "      <td>0.0000</td>\n",
              "      <td>3</td>\n",
              "      <td>13</td>\n",
              "      <td>16</td>\n",
              "    </tr>\n",
              "    <tr>\n",
              "      <th>1</th>\n",
              "      <td>2</td>\n",
              "      <td>2011-01-01</td>\n",
              "      <td>1</td>\n",
              "      <td>0</td>\n",
              "      <td>1</td>\n",
              "      <td>1</td>\n",
              "      <td>0</td>\n",
              "      <td>6</td>\n",
              "      <td>0</td>\n",
              "      <td>1</td>\n",
              "      <td>0.22</td>\n",
              "      <td>0.2727</td>\n",
              "      <td>0.80</td>\n",
              "      <td>0.0000</td>\n",
              "      <td>8</td>\n",
              "      <td>32</td>\n",
              "      <td>40</td>\n",
              "    </tr>\n",
              "    <tr>\n",
              "      <th>2</th>\n",
              "      <td>3</td>\n",
              "      <td>2011-01-01</td>\n",
              "      <td>1</td>\n",
              "      <td>0</td>\n",
              "      <td>1</td>\n",
              "      <td>2</td>\n",
              "      <td>0</td>\n",
              "      <td>6</td>\n",
              "      <td>0</td>\n",
              "      <td>1</td>\n",
              "      <td>0.22</td>\n",
              "      <td>0.2727</td>\n",
              "      <td>0.80</td>\n",
              "      <td>0.0000</td>\n",
              "      <td>5</td>\n",
              "      <td>27</td>\n",
              "      <td>32</td>\n",
              "    </tr>\n",
              "    <tr>\n",
              "      <th>3</th>\n",
              "      <td>4</td>\n",
              "      <td>2011-01-01</td>\n",
              "      <td>1</td>\n",
              "      <td>0</td>\n",
              "      <td>1</td>\n",
              "      <td>3</td>\n",
              "      <td>0</td>\n",
              "      <td>6</td>\n",
              "      <td>0</td>\n",
              "      <td>1</td>\n",
              "      <td>0.24</td>\n",
              "      <td>0.2879</td>\n",
              "      <td>0.75</td>\n",
              "      <td>0.0000</td>\n",
              "      <td>3</td>\n",
              "      <td>10</td>\n",
              "      <td>13</td>\n",
              "    </tr>\n",
              "    <tr>\n",
              "      <th>4</th>\n",
              "      <td>5</td>\n",
              "      <td>2011-01-01</td>\n",
              "      <td>1</td>\n",
              "      <td>0</td>\n",
              "      <td>1</td>\n",
              "      <td>4</td>\n",
              "      <td>0</td>\n",
              "      <td>6</td>\n",
              "      <td>0</td>\n",
              "      <td>1</td>\n",
              "      <td>0.24</td>\n",
              "      <td>0.2879</td>\n",
              "      <td>0.75</td>\n",
              "      <td>0.0000</td>\n",
              "      <td>0</td>\n",
              "      <td>1</td>\n",
              "      <td>1</td>\n",
              "    </tr>\n",
              "    <tr>\n",
              "      <th>...</th>\n",
              "      <td>...</td>\n",
              "      <td>...</td>\n",
              "      <td>...</td>\n",
              "      <td>...</td>\n",
              "      <td>...</td>\n",
              "      <td>...</td>\n",
              "      <td>...</td>\n",
              "      <td>...</td>\n",
              "      <td>...</td>\n",
              "      <td>...</td>\n",
              "      <td>...</td>\n",
              "      <td>...</td>\n",
              "      <td>...</td>\n",
              "      <td>...</td>\n",
              "      <td>...</td>\n",
              "      <td>...</td>\n",
              "      <td>...</td>\n",
              "    </tr>\n",
              "    <tr>\n",
              "      <th>17374</th>\n",
              "      <td>17375</td>\n",
              "      <td>2012-12-31</td>\n",
              "      <td>1</td>\n",
              "      <td>1</td>\n",
              "      <td>12</td>\n",
              "      <td>19</td>\n",
              "      <td>0</td>\n",
              "      <td>1</td>\n",
              "      <td>1</td>\n",
              "      <td>2</td>\n",
              "      <td>0.26</td>\n",
              "      <td>0.2576</td>\n",
              "      <td>0.60</td>\n",
              "      <td>0.1642</td>\n",
              "      <td>11</td>\n",
              "      <td>108</td>\n",
              "      <td>119</td>\n",
              "    </tr>\n",
              "    <tr>\n",
              "      <th>17375</th>\n",
              "      <td>17376</td>\n",
              "      <td>2012-12-31</td>\n",
              "      <td>1</td>\n",
              "      <td>1</td>\n",
              "      <td>12</td>\n",
              "      <td>20</td>\n",
              "      <td>0</td>\n",
              "      <td>1</td>\n",
              "      <td>1</td>\n",
              "      <td>2</td>\n",
              "      <td>0.26</td>\n",
              "      <td>0.2576</td>\n",
              "      <td>0.60</td>\n",
              "      <td>0.1642</td>\n",
              "      <td>8</td>\n",
              "      <td>81</td>\n",
              "      <td>89</td>\n",
              "    </tr>\n",
              "    <tr>\n",
              "      <th>17376</th>\n",
              "      <td>17377</td>\n",
              "      <td>2012-12-31</td>\n",
              "      <td>1</td>\n",
              "      <td>1</td>\n",
              "      <td>12</td>\n",
              "      <td>21</td>\n",
              "      <td>0</td>\n",
              "      <td>1</td>\n",
              "      <td>1</td>\n",
              "      <td>1</td>\n",
              "      <td>0.26</td>\n",
              "      <td>0.2576</td>\n",
              "      <td>0.60</td>\n",
              "      <td>0.1642</td>\n",
              "      <td>7</td>\n",
              "      <td>83</td>\n",
              "      <td>90</td>\n",
              "    </tr>\n",
              "    <tr>\n",
              "      <th>17377</th>\n",
              "      <td>17378</td>\n",
              "      <td>2012-12-31</td>\n",
              "      <td>1</td>\n",
              "      <td>1</td>\n",
              "      <td>12</td>\n",
              "      <td>22</td>\n",
              "      <td>0</td>\n",
              "      <td>1</td>\n",
              "      <td>1</td>\n",
              "      <td>1</td>\n",
              "      <td>0.26</td>\n",
              "      <td>0.2727</td>\n",
              "      <td>0.56</td>\n",
              "      <td>0.1343</td>\n",
              "      <td>13</td>\n",
              "      <td>48</td>\n",
              "      <td>61</td>\n",
              "    </tr>\n",
              "    <tr>\n",
              "      <th>17378</th>\n",
              "      <td>17379</td>\n",
              "      <td>2012-12-31</td>\n",
              "      <td>1</td>\n",
              "      <td>1</td>\n",
              "      <td>12</td>\n",
              "      <td>23</td>\n",
              "      <td>0</td>\n",
              "      <td>1</td>\n",
              "      <td>1</td>\n",
              "      <td>1</td>\n",
              "      <td>0.26</td>\n",
              "      <td>0.2727</td>\n",
              "      <td>0.65</td>\n",
              "      <td>0.1343</td>\n",
              "      <td>12</td>\n",
              "      <td>37</td>\n",
              "      <td>49</td>\n",
              "    </tr>\n",
              "  </tbody>\n",
              "</table>\n",
              "<p>17379 rows × 17 columns</p>\n",
              "</div>"
            ],
            "text/plain": [
              "       instant      dteday  season  yr  mnth  hr  holiday  weekday  \\\n",
              "0            1  2011-01-01       1   0     1   0        0        6   \n",
              "1            2  2011-01-01       1   0     1   1        0        6   \n",
              "2            3  2011-01-01       1   0     1   2        0        6   \n",
              "3            4  2011-01-01       1   0     1   3        0        6   \n",
              "4            5  2011-01-01       1   0     1   4        0        6   \n",
              "...        ...         ...     ...  ..   ...  ..      ...      ...   \n",
              "17374    17375  2012-12-31       1   1    12  19        0        1   \n",
              "17375    17376  2012-12-31       1   1    12  20        0        1   \n",
              "17376    17377  2012-12-31       1   1    12  21        0        1   \n",
              "17377    17378  2012-12-31       1   1    12  22        0        1   \n",
              "17378    17379  2012-12-31       1   1    12  23        0        1   \n",
              "\n",
              "       workingday  weathersit  temp   atemp   hum  windspeed  casual  \\\n",
              "0               0           1  0.24  0.2879  0.81     0.0000       3   \n",
              "1               0           1  0.22  0.2727  0.80     0.0000       8   \n",
              "2               0           1  0.22  0.2727  0.80     0.0000       5   \n",
              "3               0           1  0.24  0.2879  0.75     0.0000       3   \n",
              "4               0           1  0.24  0.2879  0.75     0.0000       0   \n",
              "...           ...         ...   ...     ...   ...        ...     ...   \n",
              "17374           1           2  0.26  0.2576  0.60     0.1642      11   \n",
              "17375           1           2  0.26  0.2576  0.60     0.1642       8   \n",
              "17376           1           1  0.26  0.2576  0.60     0.1642       7   \n",
              "17377           1           1  0.26  0.2727  0.56     0.1343      13   \n",
              "17378           1           1  0.26  0.2727  0.65     0.1343      12   \n",
              "\n",
              "       registered  cnt  \n",
              "0              13   16  \n",
              "1              32   40  \n",
              "2              27   32  \n",
              "3              10   13  \n",
              "4               1    1  \n",
              "...           ...  ...  \n",
              "17374         108  119  \n",
              "17375          81   89  \n",
              "17376          83   90  \n",
              "17377          48   61  \n",
              "17378          37   49  \n",
              "\n",
              "[17379 rows x 17 columns]"
            ]
          },
          "execution_count": 83,
          "metadata": {},
          "output_type": "execute_result"
        }
      ],
      "source": [
        "dt_hour"
      ]
    },
    {
      "cell_type": "code",
      "execution_count": null,
      "metadata": {
        "id": "HvDW2kVreE5b"
      },
      "outputs": [],
      "source": [
        "dt_hour.isna().sum()"
      ]
    },
    {
      "cell_type": "code",
      "execution_count": null,
      "metadata": {
        "id": "sKL2x9HkeKWT"
      },
      "outputs": [],
      "source": [
        "print(\"Jumlah duplikasi: \",dt_hour.duplicated().sum())\n",
        "dt_hour.describe()"
      ]
    },
    {
      "cell_type": "code",
      "execution_count": null,
      "metadata": {},
      "outputs": [],
      "source": [
        "import matplotlib.pyplot as plt\n",
        "Q1 = (dt_day['cnt']).quantile(0.25)\n",
        "Q3 = (dt_day['cnt']).quantile(0.75)\n",
        "IQR = Q3 - Q1\n",
        "\n",
        "maximum = Q3 + (1.5*IQR)\n",
        "minimum = Q1 - (1.5*IQR)\n",
        "\n",
        "print(\"Q1:\", Q1)\n",
        "print(\"Q3:\", Q3)\n",
        "print(\"IQR:\", IQR)\n",
        "print(\"Batas bawah:\", minimum)\n",
        "print(\"Batas atas:\", maximum)\n",
        "\n",
        "outliers = dt_day[(dt_day['cnt'] > maximum) | (dt_day['cnt'] < minimum)]\n",
        "print(\"Outlier:\", outliers)\n",
        "\n",
        "plt.boxplot(dt_day['cnt'])\n",
        "plt.title(\"Boxplot dt_day\")\n",
        "plt.show()"
      ]
    },
    {
      "cell_type": "markdown",
      "metadata": {},
      "source": [
        "- Saya menggunakan nilai kuartil untuk mengetahui batas atas dan bawah dari jumlah peminjam(cnt) pada data day. kemudian variabel outliers menyimpan nilai dari kolom cnt yang melebihi batas maximum dan minimum."
      ]
    },
    {
      "cell_type": "code",
      "execution_count": 86,
      "metadata": {},
      "outputs": [
        {
          "name": "stdout",
          "output_type": "stream",
          "text": [
            "642.5 -321.5\n",
            "Outlier: 16874\n",
            "all: 17379\n",
            " after: -505\n"
          ]
        }
      ],
      "source": [
        "# # import matplotlib.pyplot as plt\n",
        "Q1 = dt_hour['cnt'].quantile(0.25)\n",
        "Q3 = dt_hour['cnt'].quantile(0.75)\n",
        "\n",
        "\n",
        "IQR = Q3 - Q1\n",
        "\n",
        "maximum = Q3 + (1.5*IQR)\n",
        "minimum = Q1 - (1.5*IQR)\n",
        "print(maximum,minimum)\n",
        "\n",
        "# p1 = dt_hour[dt_hour['cnt'] < minimum]\n",
        "# p2= dt_hour[dt_hour['cnt'] > maximum]\n",
        "\n",
        "\n",
        "outliers = dt_hour.loc[(dt_hour['cnt'] < maximum) & (dt_hour['cnt'] > minimum)]\n",
        "print(\"Outlier:\", len(outliers))\n",
        "print(\"all:\", len(dt_hour))\n",
        "print(\" after:\", len(outliers)-len(dt_hour))\n",
        "\n",
        "# outliers\n",
        "\n",
        "# print(\"Q1:\", Q1)\n",
        "# print(\"Q3:\", Q3)\n",
        "# print(\"IQR:\", IQR)\n",
        "# print(\"Batas bawah:\", minimum)\n",
        "# print(\"Batas atas:\", maximum)\n",
        "\n",
        "\n",
        "# plt.boxplot(dt_hour['cnt'])\n",
        "# plt.title(\"Boxplot untuk Identifikasi Outlier dt_hours\")\n",
        "# plt.show()\n",
        "\n"
      ]
    },
    {
      "cell_type": "markdown",
      "metadata": {
        "id": "7dtxhAPrkhPL"
      },
      "source": [
        "**Insight:**\n",
        "- Dalam rekap data hari tidak ditemukan missing valaue, dicek melalui dt_day.info(),terdapat 15 kolom dan 731 row, 16 type data.\n",
        "- Dalam rekap data peminjaman per-jam tidak ditemukan juga missing value,dicek melalui dt_hour.info() terdapat 16 kolom dengan 17379 row, 17 type data.\n",
        "- Namun terdapat kesalahan typedata dimana dteday seharusnya bertipe data datetime buka sebagai object, karena object diguanakan untuk string\n",
        "- Pada data_hour terdapat 505 nilai dari kolom cnt yang termasuk dalam outlier. Oleh karena itu harus dilakukan clean data pada data outlier"
      ]
    },
    {
      "cell_type": "markdown",
      "metadata": {
        "id": "EhN5R4hr8DC1"
      },
      "source": [
        "### Cleaning Data"
      ]
    },
    {
      "cell_type": "markdown",
      "metadata": {
        "id": "0uU5Or68jRjc"
      },
      "source": [
        "Cleaning data dilakukan apabila terdapat data yang tidak akurat,missing value, pada dataset ini tidak terdapat missing value ataupun data yang duplikat. Namun saya mengubah type \"object\" dari kolom dteday ke type data datetime. Kemudian hal yang sama juga saya lakukan pada data_hour, karena terdapat kesalah type data pada dteday peminjaman. Saya juga melakukan clean data pada dt_hours untuk mendrop 505 data yang ditemukan outlier\n",
        "\n",
        "1. Define : dt_day memiliki parameter instant,dteday,season,yr,mnth,holiday,weekday,workingday,weathersit,temp,atemp,hum,windspeed,casual,registered,cnt. Dengan target yang akan saya  analisis adalah mencari tahu penyebab minat peminjam sepeda sesuai dengan kategori hari/tahun. Karena terdapat kesalahan type data maka akan dilakukan perubahan type data terlebih dahulu.\n",
        "2. Code : Eksekusi program\n",
        "3. Test : Menjalankan kode program"
      ]
    },
    {
      "cell_type": "code",
      "execution_count": null,
      "metadata": {
        "id": "wQrBxT6mHYDX"
      },
      "outputs": [],
      "source": [
        "dt_day[\"dteday\"] = pd.to_datetime(dt_day['dteday'], format='%Y-%m-%d')\n",
        "dt_day.info()"
      ]
    },
    {
      "cell_type": "code",
      "execution_count": null,
      "metadata": {
        "id": "iUpKUsbfIMTK"
      },
      "outputs": [],
      "source": [
        "dt_hour[\"dteday\"] = pd.to_datetime(dt_hour['dteday'], format='%Y-%m-%d')\n",
        "dt_hour.info()"
      ]
    },
    {
      "cell_type": "code",
      "execution_count": null,
      "metadata": {
        "id": "4R1iU5GouVS1"
      },
      "outputs": [],
      "source": [
        "dt_day['yr'] = dt_day['yr'].replace({0:2011, 1: 2012})\n",
        "dt_day"
      ]
    },
    {
      "cell_type": "code",
      "execution_count": null,
      "metadata": {
        "id": "gc21fUEBCsFz"
      },
      "outputs": [],
      "source": [
        "dt_hour['yr'] = dt_hour['yr'].replace({0:2011, 1: 2012})\n",
        "dt_hour"
      ]
    },
    {
      "cell_type": "code",
      "execution_count": 35,
      "metadata": {},
      "outputs": [
        {
          "name": "stdout",
          "output_type": "stream",
          "text": [
            "Outlier: 505\n"
          ]
        },
        {
          "data": {
            "image/png": "[encoded data removed]",
            "text/plain": [
              "<Figure size 1000x700 with 2 Axes>"
            ]
          },
          "metadata": {},
          "output_type": "display_data"
        }
      ],
      "source": [
        "\n",
        "df2 = dt_hour.mask(cond=p1, other=minimum, axis=0)\n",
        "df2\n",
        "\n",
        "outliers = df2[(df2['cnt'] > maximum) | (df2['cnt'] < minimum)].shape[0]\n",
        "print(\"Outlier:\", outliers)\n",
        "\n",
        "fig, axs = plt.subplots(1, 2, figsize=(10, 7))\n",
        "axs[0].boxplot(dt_day['cnt'])\n",
        "axs[0].set_title('Boxplot dt_day')\n",
        "axs[0].set_ylabel('Jumlah (cnt)')\n",
        "axs[0].set_xlabel('')\n",
        "\n",
        "axs[1].boxplot(df2['cnt'])\n",
        "axs[1].set_title('Boxplot df2')\n",
        "plt.show()"
      ]
    },
    {
      "cell_type": "markdown",
      "metadata": {
        "id": "Q_5ejIqckiSP"
      },
      "source": [
        "**Insight:**\n",
        "- Perubahan dilakukan pada kedua data memanfaatkan method dari library pandas yaitu pd.to_datetime dengan format year-month-day.\n",
        "- Pada saat dicek kembali menggunakan dt_hour.info() dteday sudah berganti typedata dengan datetime64[ns]\n",
        "- Saya melakukan cleaning data untuk data outliers pada kolom cnt, menggunakan method maks, yang dimana nilai yang outlier aakn diganti dengan nilai maksimum"
      ]
    },
    {
      "cell_type": "markdown",
      "metadata": {
        "id": "gp-Y6wU38DC1"
      },
      "source": [
        "## Exploratory Data Analysis (EDA)"
      ]
    },
    {
      "cell_type": "markdown",
      "metadata": {
        "id": "MW7WF2kr8DC1"
      },
      "source": [
        "### Explore ..."
      ]
    },
    {
      "cell_type": "markdown",
      "metadata": {
        "id": "FmMUZ-maMcAU"
      },
      "source": [
        "Explorasi saya lakukan dengan melakukan beberapa penggabungan data dari dataset yang tesedia, melakukan groupby dengan target yang sudah ditentukan"
      ]
    },
    {
      "cell_type": "code",
      "execution_count": null,
      "metadata": {
        "id": "e9CQCZjk8DC2"
      },
      "outputs": [],
      "source": [
        "dt_day.describe(include=\"all\")"
      ]
    },
    {
      "cell_type": "code",
      "execution_count": null,
      "metadata": {
        "id": "xUBTzWTaslMa"
      },
      "outputs": [],
      "source": [
        "dt_day.groupby(by=\"weathersit\").agg({\n",
        "    \"instant\" : \"nunique\",\n",
        "    \"registered\" :[\"max\", \"min\", \"mean\", \"std\"]\n",
        "})"
      ]
    },
    {
      "cell_type": "code",
      "execution_count": null,
      "metadata": {
        "id": "Z_o193FCwP0d"
      },
      "outputs": [],
      "source": [
        "dt_day.groupby(by=\"workingday\").agg({\"registered\" :[\"max\", \"min\", \"mean\", \"std\"]})"
      ]
    },
    {
      "cell_type": "code",
      "execution_count": null,
      "metadata": {
        "id": "Qzsc7DjtsSti"
      },
      "outputs": [],
      "source": [
        "dt_day.groupby(by=\"season\").instant.nunique().sort_values(ascending=True)"
      ]
    },
    {
      "cell_type": "code",
      "execution_count": null,
      "metadata": {
        "id": "xU8w0pVc3JI0"
      },
      "outputs": [],
      "source": [
        "dt_day.groupby(by=\"yr\").casual.nunique().sort_values(ascending=False)"
      ]
    },
    {
      "cell_type": "markdown",
      "metadata": {
        "id": "Tlqu1ZSet_a6"
      },
      "source": [
        "Dari pivot table diatas, pengelompokan data peminjaman sepeda berdasarkan musim. Melalui daftar pelanggan yang sudah register pada musim pertama(cuaca cerah) sebanyak 6946 dan paling sedikit 416, pada musim kedua sebanyak 6844 dan paling sedikit 491, pada musim ketiga terdapat penurunan 4324 dan paling sedikit 20 peminjam."
      ]
    },
    {
      "cell_type": "markdown",
      "metadata": {
        "id": "th_Lzl2Fkj9O"
      },
      "source": [
        "**Insight:**\n",
        "- Perubahan saya lakukan pada dt_day mengganti kategori taun 2011=0, 2012=1 menggunakan method replace"
      ]
    },
    {
      "cell_type": "markdown",
      "metadata": {
        "id": "zsyZjqak8DC2"
      },
      "source": [
        "## Visualization & Explanatory Analysis"
      ]
    },
    {
      "cell_type": "markdown",
      "metadata": {
        "id": "HZxOiQ6n8DC2"
      },
      "source": [
        "### Pertanyaan 1:\n",
        "1. Kapan dan pada jam berapa peminjaman sepeda melonjak tinggi pada tahun 2011??"
      ]
    },
    {
      "cell_type": "markdown",
      "metadata": {
        "id": "xtS6E4haWlor"
      },
      "source": [
        "\n",
        "**DATASET = DT_DAY**"
      ]
    },
    {
      "cell_type": "code",
      "execution_count": null,
      "metadata": {
        "id": "dhggg_ra_tXg"
      },
      "outputs": [],
      "source": [
        "by_2011 = dt_day[dt_day['yr'] == 2011]\n",
        "hasil=by_2011.groupby(by=\"dteday\")['cnt'].sum()\n",
        "sorted_hasil = hasil.sort_values(ascending=False)\n",
        "sorted_hasil #dihasilkan pada tanggal 2011-07-04 dengan jumlah 6043\n"
      ]
    },
    {
      "cell_type": "code",
      "execution_count": 21,
      "metadata": {
        "colab": {
          "base_uri": "https://localhost:8080/",
          "height": 89
        },
        "id": "aC3Oe2CJU71h",
        "outputId": "f14aff57-84f5-4b80-902d-d18a7c43138e"
      },
      "outputs": [
        {
          "data": {
            "application/vnd.google.colaboratory.intrinsic+json": {
              "summary": "{\n  \"name\": \"result2\",\n  \"rows\": 1,\n  \"fields\": [\n    {\n      \"column\": \"instant\",\n      \"properties\": {\n        \"dtype\": \"number\",\n        \"std\": null,\n        \"min\": 185,\n        \"max\": 185,\n        \"num_unique_values\": 1,\n        \"samples\": [\n          185\n        ],\n        \"semantic_type\": \"\",\n        \"description\": \"\"\n      }\n    },\n    {\n      \"column\": \"dteday\",\n      \"properties\": {\n        \"dtype\": \"date\",\n        \"min\": \"2011-07-04 00:00:00\",\n        \"max\": \"2011-07-04 00:00:00\",\n        \"num_unique_values\": 1,\n        \"samples\": [\n          \"2011-07-04 00:00:00\"\n        ],\n        \"semantic_type\": \"\",\n        \"description\": \"\"\n      }\n    },\n    {\n      \"column\": \"season\",\n      \"properties\": {\n        \"dtype\": \"number\",\n        \"std\": null,\n        \"min\": 3,\n        \"max\": 3,\n        \"num_unique_values\": 1,\n        \"samples\": [\n          3\n        ],\n        \"semantic_type\": \"\",\n        \"description\": \"\"\n      }\n    },\n    {\n      \"column\": \"yr\",\n      \"properties\": {\n        \"dtype\": \"number\",\n        \"std\": null,\n        \"min\": 2011,\n        \"max\": 2011,\n        \"num_unique_values\": 1,\n        \"samples\": [\n          2011\n        ],\n        \"semantic_type\": \"\",\n        \"description\": \"\"\n      }\n    },\n    {\n      \"column\": \"mnth\",\n      \"properties\": {\n        \"dtype\": \"number\",\n        \"std\": null,\n        \"min\": 7,\n        \"max\": 7,\n        \"num_unique_values\": 1,\n        \"samples\": [\n          7\n        ],\n        \"semantic_type\": \"\",\n        \"description\": \"\"\n      }\n    },\n    {\n      \"column\": \"holiday\",\n      \"properties\": {\n        \"dtype\": \"number\",\n        \"std\": null,\n        \"min\": 1,\n        \"max\": 1,\n        \"num_unique_values\": 1,\n        \"samples\": [\n          1\n        ],\n        \"semantic_type\": \"\",\n        \"description\": \"\"\n      }\n    },\n    {\n      \"column\": \"weekday\",\n      \"properties\": {\n        \"dtype\": \"number\",\n        \"std\": null,\n        \"min\": 1,\n        \"max\": 1,\n        \"num_unique_values\": 1,\n        \"samples\": [\n          1\n        ],\n        \"semantic_type\": \"\",\n        \"description\": \"\"\n      }\n    },\n    {\n      \"column\": \"workingday\",\n      \"properties\": {\n        \"dtype\": \"number\",\n        \"std\": null,\n        \"min\": 0,\n        \"max\": 0,\n        \"num_unique_values\": 1,\n        \"samples\": [\n          0\n        ],\n        \"semantic_type\": \"\",\n        \"description\": \"\"\n      }\n    },\n    {\n      \"column\": \"weathersit\",\n      \"properties\": {\n        \"dtype\": \"number\",\n        \"std\": null,\n        \"min\": 2,\n        \"max\": 2,\n        \"num_unique_values\": 1,\n        \"samples\": [\n          2\n        ],\n        \"semantic_type\": \"\",\n        \"description\": \"\"\n      }\n    },\n    {\n      \"column\": \"temp\",\n      \"properties\": {\n        \"dtype\": \"number\",\n        \"std\": null,\n        \"min\": 0.726667,\n        \"max\": 0.726667,\n        \"num_unique_values\": 1,\n        \"samples\": [\n          0.726667\n        ],\n        \"semantic_type\": \"\",\n        \"description\": \"\"\n      }\n    },\n    {\n      \"column\": \"atemp\",\n      \"properties\": {\n        \"dtype\": \"number\",\n        \"std\": null,\n        \"min\": 0.665417,\n        \"max\": 0.665417,\n        \"num_unique_values\": 1,\n        \"samples\": [\n          0.665417\n        ],\n        \"semantic_type\": \"\",\n        \"description\": \"\"\n      }\n    },\n    {\n      \"column\": \"hum\",\n      \"properties\": {\n        \"dtype\": \"number\",\n        \"std\": null,\n        \"min\": 0.637917,\n        \"max\": 0.637917,\n        \"num_unique_values\": 1,\n        \"samples\": [\n          0.637917\n        ],\n        \"semantic_type\": \"\",\n        \"description\": \"\"\n      }\n    },\n    {\n      \"column\": \"windspeed\",\n      \"properties\": {\n        \"dtype\": \"number\",\n        \"std\": null,\n        \"min\": 0.0814792,\n        \"max\": 0.0814792,\n        \"num_unique_values\": 1,\n        \"samples\": [\n          0.0814792\n        ],\n        \"semantic_type\": \"\",\n        \"description\": \"\"\n      }\n    },\n    {\n      \"column\": \"casual\",\n      \"properties\": {\n        \"dtype\": \"number\",\n        \"std\": null,\n        \"min\": 3065,\n        \"max\": 3065,\n        \"num_unique_values\": 1,\n        \"samples\": [\n          3065\n        ],\n        \"semantic_type\": \"\",\n        \"description\": \"\"\n      }\n    },\n    {\n      \"column\": \"registered\",\n      \"properties\": {\n        \"dtype\": \"number\",\n        \"std\": null,\n        \"min\": 2978,\n        \"max\": 2978,\n        \"num_unique_values\": 1,\n        \"samples\": [\n          2978\n        ],\n        \"semantic_type\": \"\",\n        \"description\": \"\"\n      }\n    },\n    {\n      \"column\": \"cnt\",\n      \"properties\": {\n        \"dtype\": \"number\",\n        \"std\": null,\n        \"min\": 6043,\n        \"max\": 6043,\n        \"num_unique_values\": 1,\n        \"samples\": [\n          6043\n        ],\n        \"semantic_type\": \"\",\n        \"description\": \"\"\n      }\n    }\n  ]\n}",
              "type": "dataframe",
              "variable_name": "result2"
            },
            "text/html": [
              "\n",
              "  <div id=\"df-6a6ddbe7-84e7-485d-8123-efccee3e0851\" class=\"colab-df-container\">\n",
              "    <div>\n",
              "<style scoped>\n",
              "    .dataframe tbody tr th:only-of-type {\n",
              "        vertical-align: middle;\n",
              "    }\n",
              "\n",
              "    .dataframe tbody tr th {\n",
              "        vertical-align: top;\n",
              "    }\n",
              "\n",
              "    .dataframe thead th {\n",
              "        text-align: right;\n",
              "    }\n",
              "</style>\n",
              "<table border=\"1\" class=\"dataframe\">\n",
              "  <thead>\n",
              "    <tr style=\"text-align: right;\">\n",
              "      <th></th>\n",
              "      <th>instant</th>\n",
              "      <th>dteday</th>\n",
              "      <th>season</th>\n",
              "      <th>yr</th>\n",
              "      <th>mnth</th>\n",
              "      <th>holiday</th>\n",
              "      <th>weekday</th>\n",
              "      <th>workingday</th>\n",
              "      <th>weathersit</th>\n",
              "      <th>temp</th>\n",
              "      <th>atemp</th>\n",
              "      <th>hum</th>\n",
              "      <th>windspeed</th>\n",
              "      <th>casual</th>\n",
              "      <th>registered</th>\n",
              "      <th>cnt</th>\n",
              "    </tr>\n",
              "  </thead>\n",
              "  <tbody>\n",
              "    <tr>\n",
              "      <th>184</th>\n",
              "      <td>185</td>\n",
              "      <td>2011-07-04</td>\n",
              "      <td>3</td>\n",
              "      <td>2011</td>\n",
              "      <td>7</td>\n",
              "      <td>1</td>\n",
              "      <td>1</td>\n",
              "      <td>0</td>\n",
              "      <td>2</td>\n",
              "      <td>0.726667</td>\n",
              "      <td>0.665417</td>\n",
              "      <td>0.637917</td>\n",
              "      <td>0.081479</td>\n",
              "      <td>3065</td>\n",
              "      <td>2978</td>\n",
              "      <td>6043</td>\n",
              "    </tr>\n",
              "  </tbody>\n",
              "</table>\n",
              "</div>\n",
              "    <div class=\"colab-df-buttons\">\n",
              "\n",
              "  <div class=\"colab-df-container\">\n",
              "    <button class=\"colab-df-convert\" onclick=\"convertToInteractive('df-6a6ddbe7-84e7-485d-8123-efccee3e0851')\"\n",
              "            title=\"Convert this dataframe to an interactive table.\"\n",
              "            style=\"display:none;\">\n",
              "\n",
              "  <svg xmlns=\"http://www.w3.org/2000/svg\" height=\"24px\" viewBox=\"0 -960 960 960\">\n",
              "    <path d=\"M120-120v-720h720v720H120Zm60-500h600v-160H180v160Zm220 220h160v-160H400v160Zm0 220h160v-160H400v160ZM180-400h160v-160H180v160Zm440 0h160v-160H620v160ZM180-180h160v-160H180v160Zm440 0h160v-160H620v160Z\"/>\n",
              "  </svg>\n",
              "    </button>\n",
              "\n",
              "  <style>\n",
              "    .colab-df-container {\n",
              "      display:flex;\n",
              "      gap: 12px;\n",
              "    }\n",
              "\n",
              "    .colab-df-convert {\n",
              "      background-color: #E8F0FE;\n",
              "      border: none;\n",
              "      border-radius: 50%;\n",
              "      cursor: pointer;\n",
              "      display: none;\n",
              "      fill: #1967D2;\n",
              "      height: 32px;\n",
              "      padding: 0 0 0 0;\n",
              "      width: 32px;\n",
              "    }\n",
              "\n",
              "    .colab-df-convert:hover {\n",
              "      background-color: #E2EBFA;\n",
              "      box-shadow: 0px 1px 2px rgba(60, 64, 67, 0.3), 0px 1px 3px 1px rgba(60, 64, 67, 0.15);\n",
              "      fill: #174EA6;\n",
              "    }\n",
              "\n",
              "    .colab-df-buttons div {\n",
              "      margin-bottom: 4px;\n",
              "    }\n",
              "\n",
              "    [theme=dark] .colab-df-convert {\n",
              "      background-color: #3B4455;\n",
              "      fill: #D2E3FC;\n",
              "    }\n",
              "\n",
              "    [theme=dark] .colab-df-convert:hover {\n",
              "      background-color: #434B5C;\n",
              "      box-shadow: 0px 1px 3px 1px rgba(0, 0, 0, 0.15);\n",
              "      filter: drop-shadow(0px 1px 2px rgba(0, 0, 0, 0.3));\n",
              "      fill: #FFFFFF;\n",
              "    }\n",
              "  </style>\n",
              "\n",
              "    <script>\n",
              "      const buttonEl =\n",
              "        document.querySelector('#df-6a6ddbe7-84e7-485d-8123-efccee3e0851 button.colab-df-convert');\n",
              "      buttonEl.style.display =\n",
              "        google.colab.kernel.accessAllowed ? 'block' : 'none';\n",
              "\n",
              "      async function convertToInteractive(key) {\n",
              "        const element = document.querySelector('#df-6a6ddbe7-84e7-485d-8123-efccee3e0851');\n",
              "        const dataTable =\n",
              "          await google.colab.kernel.invokeFunction('convertToInteractive',\n",
              "                                                    [key], {});\n",
              "        if (!dataTable) return;\n",
              "\n",
              "        const docLinkHtml = 'Like what you see? Visit the ' +\n",
              "          '<a target=\"_blank\" href=https://colab.research.google.com/notebooks/data_table.ipynb>data table notebook</a>'\n",
              "          + ' to learn more about interactive tables.';\n",
              "        element.innerHTML = '';\n",
              "        dataTable['output_type'] = 'display_data';\n",
              "        await google.colab.output.renderOutput(dataTable, element);\n",
              "        const docLink = document.createElement('div');\n",
              "        docLink.innerHTML = docLinkHtml;\n",
              "        element.appendChild(docLink);\n",
              "      }\n",
              "    </script>\n",
              "  </div>\n",
              "\n",
              "\n",
              "  <div id=\"id_c91bc7f1-ab5a-4484-9304-5d23d5699034\">\n",
              "    <style>\n",
              "      .colab-df-generate {\n",
              "        background-color: #E8F0FE;\n",
              "        border: none;\n",
              "        border-radius: 50%;\n",
              "        cursor: pointer;\n",
              "        display: none;\n",
              "        fill: #1967D2;\n",
              "        height: 32px;\n",
              "        padding: 0 0 0 0;\n",
              "        width: 32px;\n",
              "      }\n",
              "\n",
              "      .colab-df-generate:hover {\n",
              "        background-color: #E2EBFA;\n",
              "        box-shadow: 0px 1px 2px rgba(60, 64, 67, 0.3), 0px 1px 3px 1px rgba(60, 64, 67, 0.15);\n",
              "        fill: #174EA6;\n",
              "      }\n",
              "\n",
              "      [theme=dark] .colab-df-generate {\n",
              "        background-color: #3B4455;\n",
              "        fill: #D2E3FC;\n",
              "      }\n",
              "\n",
              "      [theme=dark] .colab-df-generate:hover {\n",
              "        background-color: #434B5C;\n",
              "        box-shadow: 0px 1px 3px 1px rgba(0, 0, 0, 0.15);\n",
              "        filter: drop-shadow(0px 1px 2px rgba(0, 0, 0, 0.3));\n",
              "        fill: #FFFFFF;\n",
              "      }\n",
              "    </style>\n",
              "    <button class=\"colab-df-generate\" onclick=\"generateWithVariable('result2')\"\n",
              "            title=\"Generate code using this dataframe.\"\n",
              "            style=\"display:none;\">\n",
              "\n",
              "  <svg xmlns=\"http://www.w3.org/2000/svg\" height=\"24px\"viewBox=\"0 0 24 24\"\n",
              "       width=\"24px\">\n",
              "    <path d=\"M7,19H8.4L18.45,9,17,7.55,7,17.6ZM5,21V16.75L18.45,3.32a2,2,0,0,1,2.83,0l1.4,1.43a1.91,1.91,0,0,1,.58,1.4,1.91,1.91,0,0,1-.58,1.4L9.25,21ZM18.45,9,17,7.55Zm-12,3A5.31,5.31,0,0,0,4.9,8.1,5.31,5.31,0,0,0,1,6.5,5.31,5.31,0,0,0,4.9,4.9,5.31,5.31,0,0,0,6.5,1,5.31,5.31,0,0,0,8.1,4.9,5.31,5.31,0,0,0,12,6.5,5.46,5.46,0,0,0,6.5,12Z\"/>\n",
              "  </svg>\n",
              "    </button>\n",
              "    <script>\n",
              "      (() => {\n",
              "      const buttonEl =\n",
              "        document.querySelector('#id_c91bc7f1-ab5a-4484-9304-5d23d5699034 button.colab-df-generate');\n",
              "      buttonEl.style.display =\n",
              "        google.colab.kernel.accessAllowed ? 'block' : 'none';\n",
              "\n",
              "      buttonEl.onclick = () => {\n",
              "        google.colab.notebook.generateWithVariable('result2');\n",
              "      }\n",
              "      })();\n",
              "    </script>\n",
              "  </div>\n",
              "\n",
              "    </div>\n",
              "  </div>\n"
            ],
            "text/plain": [
              "     instant     dteday  season    yr  mnth  holiday  weekday  workingday  \\\n",
              "184      185 2011-07-04       3  2011     7        1        1           0   \n",
              "\n",
              "     weathersit      temp     atemp       hum  windspeed  casual  registered  \\\n",
              "184           2  0.726667  0.665417  0.637917   0.081479    3065        2978   \n",
              "\n",
              "      cnt  \n",
              "184  6043  "
            ]
          },
          "execution_count": 21,
          "metadata": {},
          "output_type": "execute_result"
        }
      ],
      "source": [
        "result = '2011-07-04'\n",
        "result2 =dt_day[dt_day['dteday']==result]\n",
        "result2"
      ]
    },
    {
      "cell_type": "markdown",
      "metadata": {
        "id": "Ak0ts6i6rAfi"
      },
      "source": [
        "**PENJELASAN**\n",
        "\n",
        "Variabel by_2011 menyimpan data khusus untuk 2011. data tersebut digroup dengan kolom count yang disimpan dalam variabel hasil. Setelah data menjadi group kemudian di Descanding agar mengetahui mana data yang memiliki nilai max. data max tahun 2011 tercatat pada 2011-07-04 dengan jumlah 6043 data. Data yang didapat pada tanggal tesebut mencoba dikelompokan dengan dteday karena data pada tanggal tersebut masih terpencar. Kemudian terdapat variabel result untuk menyimpan data tanggal yang akan dilihat datanya yaitu 2011-07-04. Variabel result2 digunakan untuk mengambil data yang sama dari kolom dteday sesuai dengan result.\n"
      ]
    },
    {
      "cell_type": "markdown",
      "metadata": {
        "id": "IVtqraNuWui6"
      },
      "source": [
        "**DATASET = DT_HOURS**"
      ]
    },
    {
      "cell_type": "code",
      "execution_count": null,
      "metadata": {
        "id": "j_NndfT3Wz8B"
      },
      "outputs": [],
      "source": [
        "by_2011 = dt_hour[dt_hour['yr'] == 2011]\n",
        "hasil=by_2011.groupby(by=\"dteday\")['cnt'].sum()\n",
        "hasil"
      ]
    },
    {
      "cell_type": "code",
      "execution_count": null,
      "metadata": {
        "id": "q1VUCbARXTfm"
      },
      "outputs": [],
      "source": [
        "result = '2011-07-04'\n",
        "result2 =dt_hour[dt_hour['dteday']==result]\n",
        "result2\n",
        "\n"
      ]
    },
    {
      "cell_type": "code",
      "execution_count": null,
      "metadata": {
        "id": "jtBoHFvBcwlH"
      },
      "outputs": [],
      "source": [
        "import matplotlib.pyplot as plt\n",
        "import seaborn as sns\n",
        "\n",
        "plt.figure(figsize=(15, 10))\n",
        "colors=['#72BCD4']\n",
        "sns.barplot(\n",
        "    x='hr',\n",
        "    y='cnt',\n",
        "    data=result2, palette=colors)\n",
        "plt.title('Peminjaman Sepeda pada 2011-07-04 berdasarkan Jam', fontsize=16)\n",
        "plt.xlabel('Jam', fontsize=14)\n",
        "plt.ylim(0,500)\n",
        "plt.ylabel('Jumlah Peminjaman Sepeda', fontsize=14)\n",
        "plt.show()\n",
        "\n"
      ]
    },
    {
      "cell_type": "markdown",
      "metadata": {
        "id": "DgHI7CiU8DC2"
      },
      "source": [
        "### Pertanyaan 2:"
      ]
    },
    {
      "cell_type": "markdown",
      "metadata": {
        "id": "DM9hiwt1n9qp"
      },
      "source": [
        "2. Apakah terdapat perbedaan pelonjakan yang terjadi di tahun 2011 dan 2012?"
      ]
    },
    {
      "cell_type": "code",
      "execution_count": null,
      "metadata": {
        "id": "coL5-z2YpA6m"
      },
      "outputs": [],
      "source": [
        "dt_day['yr'] = dt_day['yr'].replace({0:2011, 1: 2012})"
      ]
    },
    {
      "cell_type": "code",
      "execution_count": null,
      "metadata": {
        "colab": {
          "base_uri": "https://localhost:8080/",
          "height": 125
        },
        "id": "rXN76wXmn8h-",
        "outputId": "8b21cf49-2cee-45bf-b025-059a9ac93cc1"
      },
      "outputs": [
        {
          "data": {
            "application/vnd.google.colaboratory.intrinsic+json": {
              "summary": "{\n  \"name\": \"group_df\",\n  \"rows\": 2,\n  \"fields\": [\n    {\n      \"column\": \"yr\",\n      \"properties\": {\n        \"dtype\": \"number\",\n        \"std\": 0,\n        \"min\": 2011,\n        \"max\": 2012,\n        \"num_unique_values\": 2,\n        \"samples\": [\n          2012,\n          2011\n        ],\n        \"semantic_type\": \"\",\n        \"description\": \"\"\n      }\n    },\n    {\n      \"column\": \"cnt\",\n      \"properties\": {\n        \"dtype\": \"number\",\n        \"std\": 570262,\n        \"min\": 1243103,\n        \"max\": 2049576,\n        \"num_unique_values\": 2,\n        \"samples\": [\n          2049576,\n          1243103\n        ],\n        \"semantic_type\": \"\",\n        \"description\": \"\"\n      }\n    }\n  ]\n}",
              "type": "dataframe",
              "variable_name": "group_df"
            },
            "text/html": [
              "\n",
              "  <div id=\"df-b1e553d0-a6c7-4fa3-b215-a1099ddb8566\" class=\"colab-df-container\">\n",
              "    <div>\n",
              "<style scoped>\n",
              "    .dataframe tbody tr th:only-of-type {\n",
              "        vertical-align: middle;\n",
              "    }\n",
              "\n",
              "    .dataframe tbody tr th {\n",
              "        vertical-align: top;\n",
              "    }\n",
              "\n",
              "    .dataframe thead th {\n",
              "        text-align: right;\n",
              "    }\n",
              "</style>\n",
              "<table border=\"1\" class=\"dataframe\">\n",
              "  <thead>\n",
              "    <tr style=\"text-align: right;\">\n",
              "      <th></th>\n",
              "      <th>yr</th>\n",
              "      <th>cnt</th>\n",
              "    </tr>\n",
              "  </thead>\n",
              "  <tbody>\n",
              "    <tr>\n",
              "      <th>0</th>\n",
              "      <td>2011</td>\n",
              "      <td>1243103</td>\n",
              "    </tr>\n",
              "    <tr>\n",
              "      <th>1</th>\n",
              "      <td>2012</td>\n",
              "      <td>2049576</td>\n",
              "    </tr>\n",
              "  </tbody>\n",
              "</table>\n",
              "</div>\n",
              "    <div class=\"colab-df-buttons\">\n",
              "\n",
              "  <div class=\"colab-df-container\">\n",
              "    <button class=\"colab-df-convert\" onclick=\"convertToInteractive('df-b1e553d0-a6c7-4fa3-b215-a1099ddb8566')\"\n",
              "            title=\"Convert this dataframe to an interactive table.\"\n",
              "            style=\"display:none;\">\n",
              "\n",
              "  <svg xmlns=\"http://www.w3.org/2000/svg\" height=\"24px\" viewBox=\"0 -960 960 960\">\n",
              "    <path d=\"M120-120v-720h720v720H120Zm60-500h600v-160H180v160Zm220 220h160v-160H400v160Zm0 220h160v-160H400v160ZM180-400h160v-160H180v160Zm440 0h160v-160H620v160ZM180-180h160v-160H180v160Zm440 0h160v-160H620v160Z\"/>\n",
              "  </svg>\n",
              "    </button>\n",
              "\n",
              "  <style>\n",
              "    .colab-df-container {\n",
              "      display:flex;\n",
              "      gap: 12px;\n",
              "    }\n",
              "\n",
              "    .colab-df-convert {\n",
              "      background-color: #E8F0FE;\n",
              "      border: none;\n",
              "      border-radius: 50%;\n",
              "      cursor: pointer;\n",
              "      display: none;\n",
              "      fill: #1967D2;\n",
              "      height: 32px;\n",
              "      padding: 0 0 0 0;\n",
              "      width: 32px;\n",
              "    }\n",
              "\n",
              "    .colab-df-convert:hover {\n",
              "      background-color: #E2EBFA;\n",
              "      box-shadow: 0px 1px 2px rgba(60, 64, 67, 0.3), 0px 1px 3px 1px rgba(60, 64, 67, 0.15);\n",
              "      fill: #174EA6;\n",
              "    }\n",
              "\n",
              "    .colab-df-buttons div {\n",
              "      margin-bottom: 4px;\n",
              "    }\n",
              "\n",
              "    [theme=dark] .colab-df-convert {\n",
              "      background-color: #3B4455;\n",
              "      fill: #D2E3FC;\n",
              "    }\n",
              "\n",
              "    [theme=dark] .colab-df-convert:hover {\n",
              "      background-color: #434B5C;\n",
              "      box-shadow: 0px 1px 3px 1px rgba(0, 0, 0, 0.15);\n",
              "      filter: drop-shadow(0px 1px 2px rgba(0, 0, 0, 0.3));\n",
              "      fill: #FFFFFF;\n",
              "    }\n",
              "  </style>\n",
              "\n",
              "    <script>\n",
              "      const buttonEl =\n",
              "        document.querySelector('#df-b1e553d0-a6c7-4fa3-b215-a1099ddb8566 button.colab-df-convert');\n",
              "      buttonEl.style.display =\n",
              "        google.colab.kernel.accessAllowed ? 'block' : 'none';\n",
              "\n",
              "      async function convertToInteractive(key) {\n",
              "        const element = document.querySelector('#df-b1e553d0-a6c7-4fa3-b215-a1099ddb8566');\n",
              "        const dataTable =\n",
              "          await google.colab.kernel.invokeFunction('convertToInteractive',\n",
              "                                                    [key], {});\n",
              "        if (!dataTable) return;\n",
              "\n",
              "        const docLinkHtml = 'Like what you see? Visit the ' +\n",
              "          '<a target=\"_blank\" href=https://colab.research.google.com/notebooks/data_table.ipynb>data table notebook</a>'\n",
              "          + ' to learn more about interactive tables.';\n",
              "        element.innerHTML = '';\n",
              "        dataTable['output_type'] = 'display_data';\n",
              "        await google.colab.output.renderOutput(dataTable, element);\n",
              "        const docLink = document.createElement('div');\n",
              "        docLink.innerHTML = docLinkHtml;\n",
              "        element.appendChild(docLink);\n",
              "      }\n",
              "    </script>\n",
              "  </div>\n",
              "\n",
              "\n",
              "<div id=\"df-0b240338-4e39-477a-9635-9e3e443a9287\">\n",
              "  <button class=\"colab-df-quickchart\" onclick=\"quickchart('df-0b240338-4e39-477a-9635-9e3e443a9287')\"\n",
              "            title=\"Suggest charts\"\n",
              "            style=\"display:none;\">\n",
              "\n",
              "<svg xmlns=\"http://www.w3.org/2000/svg\" height=\"24px\"viewBox=\"0 0 24 24\"\n",
              "     width=\"24px\">\n",
              "    <g>\n",
              "        <path d=\"M19 3H5c-1.1 0-2 .9-2 2v14c0 1.1.9 2 2 2h14c1.1 0 2-.9 2-2V5c0-1.1-.9-2-2-2zM9 17H7v-7h2v7zm4 0h-2V7h2v10zm4 0h-2v-4h2v4z\"/>\n",
              "    </g>\n",
              "</svg>\n",
              "  </button>\n",
              "\n",
              "<style>\n",
              "  .colab-df-quickchart {\n",
              "      --bg-color: #E8F0FE;\n",
              "      --fill-color: #1967D2;\n",
              "      --hover-bg-color: #E2EBFA;\n",
              "      --hover-fill-color: #174EA6;\n",
              "      --disabled-fill-color: #AAA;\n",
              "      --disabled-bg-color: #DDD;\n",
              "  }\n",
              "\n",
              "  [theme=dark] .colab-df-quickchart {\n",
              "      --bg-color: #3B4455;\n",
              "      --fill-color: #D2E3FC;\n",
              "      --hover-bg-color: #434B5C;\n",
              "      --hover-fill-color: #FFFFFF;\n",
              "      --disabled-bg-color: #3B4455;\n",
              "      --disabled-fill-color: #666;\n",
              "  }\n",
              "\n",
              "  .colab-df-quickchart {\n",
              "    background-color: var(--bg-color);\n",
              "    border: none;\n",
              "    border-radius: 50%;\n",
              "    cursor: pointer;\n",
              "    display: none;\n",
              "    fill: var(--fill-color);\n",
              "    height: 32px;\n",
              "    padding: 0;\n",
              "    width: 32px;\n",
              "  }\n",
              "\n",
              "  .colab-df-quickchart:hover {\n",
              "    background-color: var(--hover-bg-color);\n",
              "    box-shadow: 0 1px 2px rgba(60, 64, 67, 0.3), 0 1px 3px 1px rgba(60, 64, 67, 0.15);\n",
              "    fill: var(--button-hover-fill-color);\n",
              "  }\n",
              "\n",
              "  .colab-df-quickchart-complete:disabled,\n",
              "  .colab-df-quickchart-complete:disabled:hover {\n",
              "    background-color: var(--disabled-bg-color);\n",
              "    fill: var(--disabled-fill-color);\n",
              "    box-shadow: none;\n",
              "  }\n",
              "\n",
              "  .colab-df-spinner {\n",
              "    border: 2px solid var(--fill-color);\n",
              "    border-color: transparent;\n",
              "    border-bottom-color: var(--fill-color);\n",
              "    animation:\n",
              "      spin 1s steps(1) infinite;\n",
              "  }\n",
              "\n",
              "  @keyframes spin {\n",
              "    0% {\n",
              "      border-color: transparent;\n",
              "      border-bottom-color: var(--fill-color);\n",
              "      border-left-color: var(--fill-color);\n",
              "    }\n",
              "    20% {\n",
              "      border-color: transparent;\n",
              "      border-left-color: var(--fill-color);\n",
              "      border-top-color: var(--fill-color);\n",
              "    }\n",
              "    30% {\n",
              "      border-color: transparent;\n",
              "      border-left-color: var(--fill-color);\n",
              "      border-top-color: var(--fill-color);\n",
              "      border-right-color: var(--fill-color);\n",
              "    }\n",
              "    40% {\n",
              "      border-color: transparent;\n",
              "      border-right-color: var(--fill-color);\n",
              "      border-top-color: var(--fill-color);\n",
              "    }\n",
              "    60% {\n",
              "      border-color: transparent;\n",
              "      border-right-color: var(--fill-color);\n",
              "    }\n",
              "    80% {\n",
              "      border-color: transparent;\n",
              "      border-right-color: var(--fill-color);\n",
              "      border-bottom-color: var(--fill-color);\n",
              "    }\n",
              "    90% {\n",
              "      border-color: transparent;\n",
              "      border-bottom-color: var(--fill-color);\n",
              "    }\n",
              "  }\n",
              "</style>\n",
              "\n",
              "  <script>\n",
              "    async function quickchart(key) {\n",
              "      const quickchartButtonEl =\n",
              "        document.querySelector('#' + key + ' button');\n",
              "      quickchartButtonEl.disabled = true;  // To prevent multiple clicks.\n",
              "      quickchartButtonEl.classList.add('colab-df-spinner');\n",
              "      try {\n",
              "        const charts = await google.colab.kernel.invokeFunction(\n",
              "            'suggestCharts', [key], {});\n",
              "      } catch (error) {\n",
              "        console.error('Error during call to suggestCharts:', error);\n",
              "      }\n",
              "      quickchartButtonEl.classList.remove('colab-df-spinner');\n",
              "      quickchartButtonEl.classList.add('colab-df-quickchart-complete');\n",
              "    }\n",
              "    (() => {\n",
              "      let quickchartButtonEl =\n",
              "        document.querySelector('#df-0b240338-4e39-477a-9635-9e3e443a9287 button');\n",
              "      quickchartButtonEl.style.display =\n",
              "        google.colab.kernel.accessAllowed ? 'block' : 'none';\n",
              "    })();\n",
              "  </script>\n",
              "</div>\n",
              "\n",
              "  <div id=\"id_fa1206a8-6eea-45ff-8401-a652ad0025f8\">\n",
              "    <style>\n",
              "      .colab-df-generate {\n",
              "        background-color: #E8F0FE;\n",
              "        border: none;\n",
              "        border-radius: 50%;\n",
              "        cursor: pointer;\n",
              "        display: none;\n",
              "        fill: #1967D2;\n",
              "        height: 32px;\n",
              "        padding: 0 0 0 0;\n",
              "        width: 32px;\n",
              "      }\n",
              "\n",
              "      .colab-df-generate:hover {\n",
              "        background-color: #E2EBFA;\n",
              "        box-shadow: 0px 1px 2px rgba(60, 64, 67, 0.3), 0px 1px 3px 1px rgba(60, 64, 67, 0.15);\n",
              "        fill: #174EA6;\n",
              "      }\n",
              "\n",
              "      [theme=dark] .colab-df-generate {\n",
              "        background-color: #3B4455;\n",
              "        fill: #D2E3FC;\n",
              "      }\n",
              "\n",
              "      [theme=dark] .colab-df-generate:hover {\n",
              "        background-color: #434B5C;\n",
              "        box-shadow: 0px 1px 3px 1px rgba(0, 0, 0, 0.15);\n",
              "        filter: drop-shadow(0px 1px 2px rgba(0, 0, 0, 0.3));\n",
              "        fill: #FFFFFF;\n",
              "      }\n",
              "    </style>\n",
              "    <button class=\"colab-df-generate\" onclick=\"generateWithVariable('group_df')\"\n",
              "            title=\"Generate code using this dataframe.\"\n",
              "            style=\"display:none;\">\n",
              "\n",
              "  <svg xmlns=\"http://www.w3.org/2000/svg\" height=\"24px\"viewBox=\"0 0 24 24\"\n",
              "       width=\"24px\">\n",
              "    <path d=\"M7,19H8.4L18.45,9,17,7.55,7,17.6ZM5,21V16.75L18.45,3.32a2,2,0,0,1,2.83,0l1.4,1.43a1.91,1.91,0,0,1,.58,1.4,1.91,1.91,0,0,1-.58,1.4L9.25,21ZM18.45,9,17,7.55Zm-12,3A5.31,5.31,0,0,0,4.9,8.1,5.31,5.31,0,0,0,1,6.5,5.31,5.31,0,0,0,4.9,4.9,5.31,5.31,0,0,0,6.5,1,5.31,5.31,0,0,0,8.1,4.9,5.31,5.31,0,0,0,12,6.5,5.46,5.46,0,0,0,6.5,12Z\"/>\n",
              "  </svg>\n",
              "    </button>\n",
              "    <script>\n",
              "      (() => {\n",
              "      const buttonEl =\n",
              "        document.querySelector('#id_fa1206a8-6eea-45ff-8401-a652ad0025f8 button.colab-df-generate');\n",
              "      buttonEl.style.display =\n",
              "        google.colab.kernel.accessAllowed ? 'block' : 'none';\n",
              "\n",
              "      buttonEl.onclick = () => {\n",
              "        google.colab.notebook.generateWithVariable('group_df');\n",
              "      }\n",
              "      })();\n",
              "    </script>\n",
              "  </div>\n",
              "\n",
              "    </div>\n",
              "  </div>\n"
            ],
            "text/plain": [
              "     yr      cnt\n",
              "0  2011  1243103\n",
              "1  2012  2049576"
            ]
          },
          "execution_count": 19,
          "metadata": {},
          "output_type": "execute_result"
        }
      ],
      "source": [
        "group_df = dt_day.groupby('yr')['cnt'].sum().reset_index()\n",
        "group_df"
      ]
    },
    {
      "cell_type": "code",
      "execution_count": null,
      "metadata": {
        "id": "Go0lCsvO8DC2"
      },
      "outputs": [],
      "source": [
        "import matplotlib.pyplot as plt\n",
        "\n",
        "plt.figure(figsize=(12, 6))\n",
        "sns.barplot(data=group_df, x='yr', y='cnt', hue='yr', palette='Set1')\n",
        "plt.title('Perbandingan Peminjaman Sepeda antara Tahun 2011 dan 2012', fontsize=16)\n",
        "plt.xlabel('Tahun', fontsize=14)\n",
        "plt.ylabel('Jumlah Peminjaman Sepeda', fontsize=14)\n",
        "plt.legend(title='Tahun')\n",
        "plt.show\n"
      ]
    },
    {
      "cell_type": "markdown",
      "metadata": {
        "id": "_0-36BDLklRg"
      },
      "source": [
        "**Insight:**\n",
        "- Pertanyaan 1 : Dari analisis dataset dt_day dan dt_hour, didapatkan peminjaman sepeda mengalami pelonjakan paling tinggi pada 2011-07-04 dengan jumlah peminjam yaitu 6034 data yang terdiri dari 2 kategori peminjam yaitu register dan casual. Dalam 23 Jam peminjaman paling tinggi terjadi pada jam 21 dengan jumlah 457 peminjam. Visualisasi data menggunakan barplot dengan sumbu x adalah Waktu: Jam, dan sumbu y:jumlah peminjam\n",
        "\n",
        "- Pertanyaan 2: Perbedaan pelonjakan peminjam sepeda pada tahun 2011 dan 2012 sangat signifikan pada 2011 jumlah data peminjam 1243103, dan 2012 mengalami pelonjakan yaitu 2049576 data peminjam."
      ]
    },
    {
      "cell_type": "code",
      "execution_count": 27,
      "metadata": {
        "id": "fUeNXMeVqb9q"
      },
      "outputs": [],
      "source": [
        "all_data = pd.concat([dt_day, dt_hour], ignore_index=True)\n",
        "all_data.to_csv(\"all_data.csv\", index=False)"
      ]
    },
    {
      "cell_type": "markdown",
      "metadata": {
        "id": "9y4VUsmcYNZ5"
      },
      "source": [
        "## Analisis Lanjutan (Opsional)"
      ]
    },
    {
      "cell_type": "code",
      "execution_count": null,
      "metadata": {
        "id": "iWhnzsJGYUCO"
      },
      "outputs": [],
      "source": []
    },
    {
      "cell_type": "markdown",
      "metadata": {
        "id": "_WeHlCeX8DC2"
      },
      "source": [
        "## Conclusion"
      ]
    },
    {
      "cell_type": "markdown",
      "metadata": {
        "id": "ZTcyR48Y8DC2"
      },
      "source": [
        "- Dari analisis data untuk menjawab pertanya pertama dapa disimpulkan terdapat kuantitas paling tinggi peminjaman sepeda pada jam dan hari hari tertent. Dari seluruh data di tahun 2011 terdapat 1 hari dimana kuantitas peminjam adalah paling tinggi yaitu 2011-07-04 dengan jumlah peminjam yaitu 457 orang dan peeminjaman paling tinggi terjadi pada jam 21.  Terdapat berbagai parameter yang bisa saya analisis, seperti tanggal,bulan,tahun,musim, ketegori peminjam termasuk dalam casual atau register.\n",
        "- Analisis data kedua  untuk mengetahui perbandingan kuantitas peminjam di tahun 2011 dan 2012. Pada tahun 2012 peminjam mencapai 2049576 lebih banyak dari 2011, karena pada 2011 peminjam hanya 1243103.  Perbedaan mencapai 806.473 orang."
      ]
    }
  ],
  "metadata": {
    "colab": {
      "collapsed_sections": [
        "9y4VUsmcYNZ5"
      ],
      "provenance": []
    },
    "kernelspec": {
      "display_name": "Python 3",
      "language": "python",
      "name": "python3"
    },
    "language_info": {
      "codemirror_mode": {
        "name": "ipython",
        "version": 3
      },
      "file_extension": ".py",
      "mimetype": "text/x-python",
      "name": "python",
      "nbconvert_exporter": "python",
      "pygments_lexer": "ipython3",
      "version": "3.10.6"
    },
    "orig_nbformat": 4,
    "vscode": {
      "interpreter": {
        "hash": "972b3bf27e332e87b5379f2791f6ef9dfc79c71018c370b0d7423235e20fe4d7"
      }
    }
  },
  "nbformat": 4,
  "nbformat_minor": 0
}
